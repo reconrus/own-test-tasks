{
 "cells": [
  {
   "cell_type": "code",
   "execution_count": 2,
   "metadata": {},
   "outputs": [
    {
     "name": "stdout",
     "output_type": "stream",
     "text": [
      "Requirement already satisfied: pandas in c:\\programdata\\anaconda3\\lib\\site-packages (0.23.0)\n",
      "Requirement already satisfied: pytz>=2011k in c:\\programdata\\anaconda3\\lib\\site-packages (from pandas) (2018.4)\n",
      "Requirement already satisfied: numpy>=1.9.0 in c:\\programdata\\anaconda3\\lib\\site-packages (from pandas) (1.14.3)\n",
      "Requirement already satisfied: python-dateutil>=2.5.0 in c:\\programdata\\anaconda3\\lib\\site-packages (from pandas) (2.7.3)\n",
      "Requirement already satisfied: six>=1.5 in c:\\programdata\\anaconda3\\lib\\site-packages (from python-dateutil>=2.5.0->pandas) (1.11.0)\n"
     ]
    },
    {
     "name": "stderr",
     "output_type": "stream",
     "text": [
      "distributed 1.21.8 requires msgpack, which is not installed.\n",
      "You are using pip version 10.0.1, however version 19.0.3 is available.\n",
      "You should consider upgrading via the 'python -m pip install --upgrade pip' command.\n"
     ]
    }
   ],
   "source": [
    "!pip install pandas"
   ]
  },
  {
   "cell_type": "code",
   "execution_count": 3,
   "metadata": {},
   "outputs": [],
   "source": [
    "import pandas as pd\n",
    "import os\n",
    "from sklearn import model_selection, preprocessing, linear_model, metrics, svm, naive_bayes\n",
    "from sklearn.feature_extraction.text import TfidfVectorizer, CountVectorizer\n",
    "from sklearn.externals import joblib"
   ]
  },
  {
   "cell_type": "code",
   "execution_count": 4,
   "metadata": {},
   "outputs": [],
   "source": [
    "CLF_PATH = 'result/clf.pkl'\n",
    "TFIDF_PATH = 'result/tfidf.pkl'"
   ]
  },
  {
   "cell_type": "code",
   "execution_count": 5,
   "metadata": {},
   "outputs": [],
   "source": [
    "def train_model():\n",
    "\n",
    "    df = pd.read_csv(\"data/data.csv\")       \n",
    "\n",
    "    train_x, valid_x, train_y, valid_y = model_selection.train_test_split(df['text'], df['id'])\n",
    "\n",
    "    encoder = preprocessing.LabelEncoder()\n",
    "\n",
    "    train_y = encoder.fit_transform(train_y)\n",
    "    valid_y = encoder.fit_transform(valid_y)\n",
    "\n",
    "    tfidf_vect = TfidfVectorizer(analyzer='word', token_pattern=r'\\w{1,}')\n",
    "    tfidf_vect.fit(df['text'])\n",
    "\n",
    "    xtrain_tfidf =  tfidf_vect.transform(train_x)\n",
    "    xvalid_tfidf =  tfidf_vect.transform(valid_x)\n",
    "\n",
    "#     classifier = linear_model.LogisticRegression()\n",
    "    classifier = naive_bayes.MultinomialNB()\n",
    "\n",
    "    classifier.fit(xtrain_tfidf, train_y)\n",
    "\n",
    "    predictions = classifier.predict(xvalid_tfidf)\n",
    "\n",
    "    accuracy = metrics.accuracy_score(predictions, valid_y)\n",
    "\n",
    "    print(accuracy)\n",
    "    \n",
    "    return classifier, tfidf_vect"
   ]
  },
  {
   "cell_type": "code",
   "execution_count": 22,
   "metadata": {},
   "outputs": [],
   "source": [
    "def predict(text):\n",
    "    if os.path.isfile(CLF_PATH) and os.path.isfile(TFIDF_PATH):\n",
    "        classifier = joblib.load(CLF_PATH)\n",
    "        tfidf = joblib.load(TFIDF_PATH)\n",
    "    else:\n",
    "        classifier, tfidf = train_model()\n",
    "        joblib.dump(classifier, CLF_PATH)\n",
    "        joblib.dump(tfidf, TFIDF_PATH) \n",
    "    \n",
    "    text_tfidf = tfidf.transform([text])\n",
    "    \n",
    "    result = classifier.predict(text_tfidf)\n",
    "    \n",
    "    return bool(result[0])\n"
   ]
  },
  {
   "cell_type": "code",
   "execution_count": 23,
   "metadata": {},
   "outputs": [],
   "source": [
    "text = open(\"text.txt\",\"r\").read()"
   ]
  },
  {
   "cell_type": "code",
   "execution_count": 24,
   "metadata": {},
   "outputs": [
    {
     "name": "stdout",
     "output_type": "stream",
     "text": [
      "False\n"
     ]
    }
   ],
   "source": [
    "print(predict(text))"
   ]
  },
  {
   "cell_type": "code",
   "execution_count": null,
   "metadata": {},
   "outputs": [],
   "source": []
  }
 ],
 "metadata": {
  "kernelspec": {
   "display_name": "Python 3",
   "language": "python",
   "name": "python3"
  },
  "language_info": {
   "codemirror_mode": {
    "name": "ipython",
    "version": 3
   },
   "file_extension": ".py",
   "mimetype": "text/x-python",
   "name": "python",
   "nbconvert_exporter": "python",
   "pygments_lexer": "ipython3",
   "version": "3.6.5"
  }
 },
 "nbformat": 4,
 "nbformat_minor": 2
}
